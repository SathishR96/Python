{
 "cells": [
  {
   "cell_type": "markdown",
   "metadata": {},
   "source": [
    "#Numpy"
   ]
  },
  {
   "cell_type": "code",
   "execution_count": 46,
   "metadata": {},
   "outputs": [
    {
     "name": "stdout",
     "output_type": "stream",
     "text": [
      "1\n",
      "item size:  4\n",
      "shape of an array (10,)\n"
     ]
    }
   ],
   "source": [
    "import numpy as np\n",
    "a=np.arange(10)\n",
    "print(a.ndim)\n",
    "print('item size: ',a.itemsize)\n",
    "print('shape of an array',a.shape)"
   ]
  },
  {
   "cell_type": "markdown",
   "metadata": {},
   "source": [
    "#Reshaping the array"
   ]
  },
  {
   "cell_type": "code",
   "execution_count": 45,
   "metadata": {},
   "outputs": [
    {
     "name": "stdout",
     "output_type": "stream",
     "text": [
      "[[ 0  1  2  3]\n",
      " [ 4  5  6  7]\n",
      " [ 8  9 10 11]\n",
      " [12 13 14 15]\n",
      " [16 17 18 19]]\n",
      "item size:  4\n",
      "shape of an array (5, 4)\n"
     ]
    }
   ],
   "source": [
    "a=np.arange(20).reshape(5,4)\n",
    "print(a)\n",
    "print('item size: ',a.itemsize)\n",
    "print('shape of an array',a.shape)"
   ]
  },
  {
   "cell_type": "markdown",
   "metadata": {},
   "source": [
    "#slicing an array"
   ]
  },
  {
   "cell_type": "code",
   "execution_count": 26,
   "metadata": {},
   "outputs": [
    {
     "name": "stdout",
     "output_type": "stream",
     "text": [
      "[[ 0  1  2  3  4  5]\n",
      " [ 6  7  8  9 10 11]\n",
      " [12 13 14 15 16 17]\n",
      " [18 19 20 21 22 23]\n",
      " [24 25 26 27 28 29]]\n",
      "\n",
      "\n",
      "[[ 4  5]\n",
      " [10 11]\n",
      " [16 17]\n",
      " [22 23]\n",
      " [28 29]]\n"
     ]
    }
   ],
   "source": [
    "a=np.arange(30).reshape(5,6)\n",
    "print(a[::])\n",
    "print('\\n')\n",
    "print(a[:,4:6])"
   ]
  },
  {
   "cell_type": "code",
   "execution_count": 69,
   "metadata": {},
   "outputs": [
    {
     "name": "stdout",
     "output_type": "stream",
     "text": [
      "[[0. 0. 0.]\n",
      " [0. 0. 0.]\n",
      " [0. 0. 0.]]\n",
      "\n",
      "\n",
      "[[1. 1. 1. 1. 1.]\n",
      " [1. 1. 1. 1. 1.]\n",
      " [1. 1. 1. 1. 1.]\n",
      " [1. 1. 1. 1. 1.]]\n",
      "\n",
      "\n",
      "Transposing\n",
      "\n",
      "\n",
      "[[ 0  5 10 15]\n",
      " [ 1  6 11 16]\n",
      " [ 2  7 12 17]\n",
      " [ 3  8 13 18]\n",
      " [ 4  9 14 19]]\n"
     ]
    }
   ],
   "source": [
    "a=np.arange(20).reshape(4,5)\n",
    "print(np.zeros((3,3)))\n",
    "print('\\n')\n",
    "print(np.ones((4,5)))\n",
    "print('\\n')\n",
    "print('Transposing')\n",
    "print('\\n')\n",
    "print(np.transpose(a))"
   ]
  },
  {
   "cell_type": "markdown",
   "metadata": {},
   "source": [
    "#character Manipulations"
   ]
  },
  {
   "cell_type": "code",
   "execution_count": 23,
   "metadata": {},
   "outputs": [
    {
     "name": "stdout",
     "output_type": "stream",
     "text": [
      "['hello hi']\n",
      "------hi hello------\n",
      "HELLO\n",
      "hello\n",
      "Hello\n"
     ]
    }
   ],
   "source": [
    "import numpy as np\n",
    "print(np.char.add(['hello '],['hi']))\n",
    "print(np.char.center('hi hello',20,fillchar=\"-\"))\n",
    "print(np.char.upper('Hello'))\n",
    "print(np.char.lower('Hello'))\n",
    "print(np.char.title('Hello'))"
   ]
  },
  {
   "cell_type": "markdown",
   "metadata": {},
   "source": [
    "#Arithmetic Operations"
   ]
  },
  {
   "cell_type": "code",
   "execution_count": 49,
   "metadata": {},
   "outputs": [
    {
     "name": "stdout",
     "output_type": "stream",
     "text": [
      "[[ 0  1  2  3  4  5]\n",
      " [ 6  7  8  9 10 11]\n",
      " [12 13 14 15 16 17]\n",
      " [18 19 20 21 22 23]]\n",
      "\n",
      "\n",
      "[[ 0  1  2  3  4  5]\n",
      " [ 6  7  8  9 10 11]\n",
      " [12 13 14 15 16 17]\n",
      " [18 19 20 21 22 23]]\n",
      "\n",
      "Addition \n",
      "\n",
      "[[ 0  2  4  6  8 10]\n",
      " [12 14 16 18 20 22]\n",
      " [24 26 28 30 32 34]\n",
      " [36 38 40 42 44 46]]\n",
      "\n",
      "subtration \n",
      "\n",
      "[[0 0 0 0 0 0]\n",
      " [0 0 0 0 0 0]\n",
      " [0 0 0 0 0 0]\n",
      " [0 0 0 0 0 0]]\n",
      "\n",
      "Multiplication \n",
      "\n",
      "[[  0   1   4   9  16  25]\n",
      " [ 36  49  64  81 100 121]\n",
      " [144 169 196 225 256 289]\n",
      " [324 361 400 441 484 529]]\n",
      "\n",
      "Division \n",
      "\n",
      "[[nan  1.  1.  1.  1.  1.]\n",
      " [ 1.  1.  1.  1.  1.  1.]\n",
      " [ 1.  1.  1.  1.  1.  1.]\n",
      " [ 1.  1.  1.  1.  1.  1.]]\n"
     ]
    },
    {
     "name": "stderr",
     "output_type": "stream",
     "text": [
      "<ipython-input-49-672df278e5c5>:13: RuntimeWarning: invalid value encountered in true_divide\n",
      "  print(np.divide(a,b))\n"
     ]
    }
   ],
   "source": [
    "a=np.arange(24).reshape(4,6)\n",
    "b=np.arange(24).reshape(4,6)\n",
    "print(a)\n",
    "print('\\n')\n",
    "print(b)\n",
    "print('\\n''Addition','\\n')\n",
    "print(a+b)\n",
    "print('\\n''subtration','\\n')\n",
    "print(a-b)\n",
    "print('\\n''Multiplication','\\n')\n",
    "print(a*b)\n",
    "print('\\n''Division','\\n')\n",
    "print(np.divide(a,b))"
   ]
  },
  {
   "cell_type": "markdown",
   "metadata": {},
   "source": [
    "#Numpy Exercise For Practise"
   ]
  },
  {
   "cell_type": "code",
   "execution_count": 86,
   "metadata": {},
   "outputs": [
    {
     "name": "stdout",
     "output_type": "stream",
     "text": [
      "0.0\n",
      "88.82643960980423\n",
      "355.3057584392169\n",
      "799.437956488238\n",
      "1421.2230337568676\n",
      "2220.660990245105\n",
      "3197.751825952952\n",
      "4352.495540880407\n",
      "5684.89213502747\n",
      "7194.941608394141\n",
      "8882.64396098042\n",
      "[ 0.          9.42477796 18.84955592 28.27433388 37.69911184 47.1238898\n",
      " 56.54866776 65.97344573 75.39822369 84.82300165 94.24777961]\n"
     ]
    }
   ],
   "source": [
    "a=np.arange(0,100,np.pi*3)\n",
    "for x in np.nditer(a):\n",
    "    x=x**2\n",
    "    print(x)\n",
    "print(a)"
   ]
  }
 ],
 "metadata": {
  "kernelspec": {
   "display_name": "Python 3",
   "language": "python",
   "name": "python3"
  },
  "language_info": {
   "codemirror_mode": {
    "name": "ipython",
    "version": 3
   },
   "file_extension": ".py",
   "mimetype": "text/x-python",
   "name": "python",
   "nbconvert_exporter": "python",
   "pygments_lexer": "ipython3",
   "version": "3.8.5"
  }
 },
 "nbformat": 4,
 "nbformat_minor": 4
}
